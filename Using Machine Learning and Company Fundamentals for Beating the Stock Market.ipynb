{
 "cells": [
  {
   "cell_type": "markdown",
   "id": "6d71eff1",
   "metadata": {},
   "source": [
    "https://medium.com/mlearning-ai/using-machine-learning-and-company-fundamentals-for-beating-the-stock-market-fa2d4ac438a7"
   ]
  },
  {
   "cell_type": "code",
   "execution_count": 3,
   "id": "94a44a20",
   "metadata": {},
   "outputs": [],
   "source": [
    "import pandas as pd\n",
    "\n",
    "# read dataset\n",
    "df = pd.read_csv(\"dataset.csv\", parse_dates=[\"date\"])\n",
    "\n",
    "# format index\n",
    "df = df.set_index([\"ticker\", \"date\"])"
   ]
  },
  {
   "cell_type": "code",
   "execution_count": 5,
   "id": "da8294eb",
   "metadata": {},
   "outputs": [
    {
     "data": {
      "text/plain": [
       "ticker  date      \n",
       "AAPL    2000-01-31    False\n",
       "        2000-02-29     True\n",
       "        2000-03-31     True\n",
       "        2000-04-30    False\n",
       "        2000-05-31    False\n",
       "                      ...  \n",
       "WMT     2020-08-31     True\n",
       "        2020-09-30    False\n",
       "        2020-10-31    False\n",
       "        2020-11-30     True\n",
       "        2020-12-31    False\n",
       "Name: target, Length: 7160, dtype: bool"
      ]
     },
     "execution_count": 5,
     "metadata": {},
     "output_type": "execute_result"
    }
   ],
   "source": [
    "\n",
    "# if the price increases by more than x%, we label it as \"True\" or \"Buy\"\n",
    "threshold = 0.05  # 5%\n",
    "\n",
    "# calculate the return within the month\n",
    "df[\"return_month\"] = (df[\"adjClose\"] / df[\"adjOpen\"]) - 1\n",
    "\n",
    "# create the target\n",
    "df[\"target\"] = df[\"return_month\"] >= threshold\n",
    "\n",
    "df[\"target\"]"
   ]
  },
  {
   "cell_type": "code",
   "execution_count": 6,
   "id": "e7d92666",
   "metadata": {},
   "outputs": [],
   "source": [
    "# list of features\n",
    "features = [\n",
    "    \"price_rate_of_change_1M\",\n",
    "    \"price_rate_of_change_3M\",\n",
    "    \"epsDil\",\n",
    "    \"return_on_assets\",\n",
    "    \"return_on_equity\",\n",
    "    \"price_to_earnings_ratio\",\n",
    "    \"debt_to_equity_ratio\",\n",
    "]\n",
    "\n",
    "# shift the value of the features by one period (make sure to use groupby!)\n",
    "df[features] = df.groupby(\"ticker\")[features].shift(1)"
   ]
  },
  {
   "cell_type": "code",
   "execution_count": 7,
   "id": "b1ccdc14",
   "metadata": {},
   "outputs": [],
   "source": [
    "# remove the first row for each ticker to get rid of the NaN created after doing the shift\n",
    "df = df.loc[df.groupby(\"ticker\").cumcount() > 0]"
   ]
  },
  {
   "cell_type": "code",
   "execution_count": 12,
   "id": "b70ab7cb",
   "metadata": {},
   "outputs": [
    {
     "ename": "ModuleNotFoundError",
     "evalue": "No module named 'pandas_profiling'",
     "output_type": "error",
     "traceback": [
      "\u001b[1;31m---------------------------------------------------------------------------\u001b[0m",
      "\u001b[1;31mModuleNotFoundError\u001b[0m                       Traceback (most recent call last)",
      "\u001b[1;32m~\\AppData\\Local\\Temp/ipykernel_1020/518515176.py\u001b[0m in \u001b[0;36m<module>\u001b[1;34m\u001b[0m\n\u001b[1;32m----> 1\u001b[1;33m \u001b[1;32mfrom\u001b[0m \u001b[0mpandas_profiling\u001b[0m \u001b[1;32mimport\u001b[0m \u001b[0mProfileReport\u001b[0m\u001b[1;33m\u001b[0m\u001b[1;33m\u001b[0m\u001b[0m\n\u001b[0m\u001b[0;32m      2\u001b[0m \u001b[1;33m\u001b[0m\u001b[0m\n\u001b[0;32m      3\u001b[0m \u001b[0mprofile\u001b[0m \u001b[1;33m=\u001b[0m \u001b[0mProfileReport\u001b[0m\u001b[1;33m(\u001b[0m\u001b[0mdf\u001b[0m\u001b[1;33m,\u001b[0m \u001b[0mtitle\u001b[0m\u001b[1;33m=\u001b[0m\u001b[1;34m\"Pandas Profiling Report\"\u001b[0m\u001b[1;33m,\u001b[0m \u001b[0mminimal\u001b[0m\u001b[1;33m=\u001b[0m\u001b[1;32mTrue\u001b[0m\u001b[1;33m)\u001b[0m\u001b[1;33m\u001b[0m\u001b[1;33m\u001b[0m\u001b[0m\n\u001b[0;32m      4\u001b[0m \u001b[1;33m\u001b[0m\u001b[0m\n\u001b[0;32m      5\u001b[0m \u001b[0mprofile\u001b[0m\u001b[1;33m.\u001b[0m\u001b[0mto_notebook_iframe\u001b[0m\u001b[1;33m(\u001b[0m\u001b[1;33m)\u001b[0m\u001b[1;33m\u001b[0m\u001b[1;33m\u001b[0m\u001b[0m\n",
      "\u001b[1;31mModuleNotFoundError\u001b[0m: No module named 'pandas_profiling'"
     ]
    }
   ],
   "source": [
    "from pandas_profiling import ProfileReport\n",
    "\n",
    "profile = ProfileReport(df, title=\"Pandas Profiling Report\", minimal=True)\n",
    "\n",
    "profile.to_notebook_iframe()"
   ]
  },
  {
   "cell_type": "code",
   "execution_count": 9,
   "id": "e20b8e37",
   "metadata": {},
   "outputs": [
    {
     "name": "stdout",
     "output_type": "stream",
     "text": [
      "Collecting pandas_profiling\n"
     ]
    },
    {
     "name": "stderr",
     "output_type": "stream",
     "text": [
      "WARNING: Ignoring invalid distribution -tatsmodels (c:\\users\\hp\\anaconda3\\lib\\site-packages)\n",
      "WARNING: Ignoring invalid distribution -tatsmodels (c:\\users\\hp\\anaconda3\\lib\\site-packages)\n",
      "WARNING: Ignoring invalid distribution -tatsmodels (c:\\users\\hp\\anaconda3\\lib\\site-packages)\n",
      "    WARNING: Ignoring invalid distribution -tatsmodels (c:\\users\\hp\\anaconda3\\lib\\site-packages)\n",
      "ERROR: Could not install packages due to an OSError: [WinError 5] Access is denied: 'C:\\\\Users\\\\HP\\\\anaconda3\\\\Lib\\\\site-packages\\\\~arkupsafe\\\\_speedups.cp39-win_amd64.pyd'\n",
      "Consider using the `--user` option or check the permissions.\n",
      "\n",
      "WARNING: Ignoring invalid distribution -tatsmodels (c:\\users\\hp\\anaconda3\\lib\\site-packages)\n",
      "WARNING: Ignoring invalid distribution -tatsmodels (c:\\users\\hp\\anaconda3\\lib\\site-packages)\n"
     ]
    },
    {
     "name": "stdout",
     "output_type": "stream",
     "text": [
      "  Downloading pandas_profiling-3.2.0-py2.py3-none-any.whl (262 kB)\n",
      "Requirement already satisfied: PyYAML>=5.0.0 in c:\\users\\hp\\anaconda3\\lib\\site-packages (from pandas_profiling) (6.0)\n",
      "Requirement already satisfied: requests>=2.24.0 in c:\\users\\hp\\anaconda3\\lib\\site-packages (from pandas_profiling) (2.26.0)\n",
      "Collecting multimethod>=1.4\n",
      "  Downloading multimethod-1.8-py3-none-any.whl (9.8 kB)\n",
      "Collecting visions[type_image_path]==0.7.4\n",
      "  Downloading visions-0.7.4-py3-none-any.whl (102 kB)\n",
      "Collecting pydantic>=1.8.1\n",
      "  Downloading pydantic-1.9.1-cp39-cp39-win_amd64.whl (2.0 MB)\n",
      "Requirement already satisfied: joblib~=1.1.0 in c:\\users\\hp\\anaconda3\\lib\\site-packages (from pandas_profiling) (1.1.0)\n",
      "Requirement already satisfied: tqdm>=4.48.2 in c:\\users\\hp\\anaconda3\\lib\\site-packages (from pandas_profiling) (4.62.3)\n",
      "Requirement already satisfied: missingno>=0.4.2 in c:\\users\\hp\\anaconda3\\lib\\site-packages (from pandas_profiling) (0.5.1)\n",
      "Requirement already satisfied: pandas!=1.0.0,!=1.0.1,!=1.0.2,!=1.1.0,>=0.25.3 in c:\\users\\hp\\anaconda3\\lib\\site-packages (from pandas_profiling) (1.3.4)\n",
      "Collecting markupsafe~=2.1.1\n",
      "  Downloading MarkupSafe-2.1.1-cp39-cp39-win_amd64.whl (17 kB)\n",
      "Collecting phik>=0.11.1\n",
      "  Downloading phik-0.12.2-cp39-cp39-win_amd64.whl (685 kB)\n",
      "Requirement already satisfied: scipy>=1.4.1 in c:\\users\\hp\\anaconda3\\lib\\site-packages (from pandas_profiling) (1.7.1)\n",
      "Collecting tangled-up-in-unicode==0.2.0\n",
      "  Downloading tangled_up_in_unicode-0.2.0-py3-none-any.whl (4.7 MB)\n",
      "Requirement already satisfied: jinja2>=2.11.1 in c:\\users\\hp\\anaconda3\\lib\\site-packages (from pandas_profiling) (2.11.3)\n",
      "Requirement already satisfied: matplotlib>=3.2.0 in c:\\users\\hp\\anaconda3\\lib\\site-packages (from pandas_profiling) (3.4.3)\n",
      "Collecting htmlmin>=0.1.12\n",
      "  Downloading htmlmin-0.1.12.tar.gz (19 kB)\n",
      "Requirement already satisfied: numpy>=1.16.0 in c:\\users\\hp\\anaconda3\\lib\\site-packages (from pandas_profiling) (1.20.3)\n",
      "Requirement already satisfied: seaborn>=0.10.1 in c:\\users\\hp\\anaconda3\\lib\\site-packages (from pandas_profiling) (0.11.2)\n",
      "Requirement already satisfied: networkx>=2.4 in c:\\users\\hp\\anaconda3\\lib\\site-packages (from visions[type_image_path]==0.7.4->pandas_profiling) (2.6.3)\n",
      "Requirement already satisfied: attrs>=19.3.0 in c:\\users\\hp\\anaconda3\\lib\\site-packages (from visions[type_image_path]==0.7.4->pandas_profiling) (21.2.0)\n",
      "Requirement already satisfied: Pillow in c:\\users\\hp\\anaconda3\\lib\\site-packages (from visions[type_image_path]==0.7.4->pandas_profiling) (8.4.0)\n",
      "Collecting imagehash\n",
      "  Downloading ImageHash-4.2.1.tar.gz (812 kB)\n",
      "Requirement already satisfied: python-dateutil>=2.7 in c:\\users\\hp\\anaconda3\\lib\\site-packages (from matplotlib>=3.2.0->pandas_profiling) (2.8.2)\n",
      "Requirement already satisfied: pyparsing>=2.2.1 in c:\\users\\hp\\anaconda3\\lib\\site-packages (from matplotlib>=3.2.0->pandas_profiling) (3.0.4)\n",
      "Requirement already satisfied: cycler>=0.10 in c:\\users\\hp\\anaconda3\\lib\\site-packages (from matplotlib>=3.2.0->pandas_profiling) (0.10.0)\n",
      "Requirement already satisfied: kiwisolver>=1.0.1 in c:\\users\\hp\\anaconda3\\lib\\site-packages (from matplotlib>=3.2.0->pandas_profiling) (1.3.1)\n",
      "Requirement already satisfied: six in c:\\users\\hp\\anaconda3\\lib\\site-packages (from cycler>=0.10->matplotlib>=3.2.0->pandas_profiling) (1.16.0)\n",
      "Requirement already satisfied: pytz>=2017.3 in c:\\users\\hp\\anaconda3\\lib\\site-packages (from pandas!=1.0.0,!=1.0.1,!=1.0.2,!=1.1.0,>=0.25.3->pandas_profiling) (2021.3)\n",
      "Requirement already satisfied: typing-extensions>=3.7.4.3 in c:\\users\\hp\\anaconda3\\lib\\site-packages (from pydantic>=1.8.1->pandas_profiling) (3.10.0.2)\n",
      "Requirement already satisfied: urllib3<1.27,>=1.21.1 in c:\\users\\hp\\anaconda3\\lib\\site-packages (from requests>=2.24.0->pandas_profiling) (1.26.7)\n",
      "Requirement already satisfied: idna<4,>=2.5 in c:\\users\\hp\\anaconda3\\lib\\site-packages (from requests>=2.24.0->pandas_profiling) (3.2)"
     ]
    },
    {
     "name": "stderr",
     "output_type": "stream",
     "text": [
      "WARNING: Ignoring invalid distribution -tatsmodels (c:\\users\\hp\\anaconda3\\lib\\site-packages)\n"
     ]
    },
    {
     "name": "stdout",
     "output_type": "stream",
     "text": [
      "\n",
      "Requirement already satisfied: charset-normalizer~=2.0.0 in c:\\users\\hp\\anaconda3\\lib\\site-packages (from requests>=2.24.0->pandas_profiling) (2.0.4)\n",
      "Requirement already satisfied: certifi>=2017.4.17 in c:\\users\\hp\\anaconda3\\lib\\site-packages (from requests>=2.24.0->pandas_profiling) (2021.10.8)\n",
      "Requirement already satisfied: colorama in c:\\users\\hp\\anaconda3\\lib\\site-packages (from tqdm>=4.48.2->pandas_profiling) (0.4.4)\n",
      "Requirement already satisfied: PyWavelets in c:\\users\\hp\\anaconda3\\lib\\site-packages (from imagehash->visions[type_image_path]==0.7.4->pandas_profiling) (1.1.1)\n",
      "Building wheels for collected packages: htmlmin, imagehash\n",
      "  Building wheel for htmlmin (setup.py): started\n",
      "  Building wheel for htmlmin (setup.py): finished with status 'done'\n",
      "  Created wheel for htmlmin: filename=htmlmin-0.1.12-py3-none-any.whl size=27098 sha256=64729c1739c7b8df1596cacf0da9697de0c7301a9dc666e9d3e2bb5fcac78840\n",
      "  Stored in directory: c:\\users\\hp\\appdata\\local\\pip\\cache\\wheels\\1d\\05\\04\\c6d7d3b66539d9e659ac6dfe81e2d0fd4c1a8316cc5a403300\n",
      "  Building wheel for imagehash (setup.py): started\n",
      "  Building wheel for imagehash (setup.py): finished with status 'done'\n",
      "  Created wheel for imagehash: filename=ImageHash-4.2.1-py2.py3-none-any.whl size=295207 sha256=eef166e4c91503bcdead2c6e07080e752f202666e9a503ed94464b9a70c47405\n",
      "  Stored in directory: c:\\users\\hp\\appdata\\local\\pip\\cache\\wheels\\51\\f9\\a5\\740af2fdb0ad1edf79aabdc41531be0b6f0b2e2be684c388cf\n",
      "Successfully built htmlmin imagehash\n",
      "Installing collected packages: tangled-up-in-unicode, multimethod, visions, markupsafe, imagehash, pydantic, phik, htmlmin, pandas-profiling\n",
      "  Attempting uninstall: markupsafe\n",
      "    Found existing installation: MarkupSafe 1.1.1\n",
      "    Uninstalling MarkupSafe-1.1.1:\n",
      "      Successfully uninstalled MarkupSafe-1.1.1\n"
     ]
    }
   ],
   "source": [
    "!pip install pandas_profiling"
   ]
  },
  {
   "cell_type": "code",
   "execution_count": null,
   "id": "09abb519",
   "metadata": {},
   "outputs": [],
   "source": []
  },
  {
   "cell_type": "code",
   "execution_count": null,
   "id": "ff99692e",
   "metadata": {},
   "outputs": [],
   "source": [
    "split_date = 2020\n",
    "\n",
    "df_train = df.loc[df.index.get_level_values(\"date\").year < split_date]\n",
    "df_test = df.loc[df.index.get_level_values(\"date\").year == split_date]"
   ]
  },
  {
   "cell_type": "code",
   "execution_count": null,
   "id": "8c6f4688",
   "metadata": {},
   "outputs": [],
   "source": [
    "from lightgbm import LGBMClassifier\n",
    "\n",
    "# define classifier\n",
    "estimator = LGBMClassifier(\n",
    "    is_unbalance=True,\n",
    "    max_depth=4,\n",
    "    num_leaves=8,\n",
    "    min_child_samples=400,\n",
    "    n_estimators=50,\n",
    ")\n",
    "\n",
    "# fit classifier on training data\n",
    "estimator.fit(df_train[features], df_train[\"target\"])"
   ]
  },
  {
   "cell_type": "code",
   "execution_count": null,
   "id": "5c39df87",
   "metadata": {},
   "outputs": [],
   "source": [
    "# make prediction using test data\n",
    "df_test[\"buy\"] = estimator.predict(df_test[features])"
   ]
  },
  {
   "cell_type": "code",
   "execution_count": null,
   "id": "04c293f5",
   "metadata": {},
   "outputs": [],
   "source": [
    "# select only the stocks that were picked by the model\n",
    "df_buy = df_test.loc[df_test[\"buy\"] == True][[\"return_month\", \"target\", \"buy\"]]"
   ]
  },
  {
   "cell_type": "code",
   "execution_count": null,
   "id": "4d1167d3",
   "metadata": {},
   "outputs": [],
   "source": [
    "df_results = (\n",
    "    df_buy.reset_index()\n",
    "    .groupby(\"date\")\n",
    "    .agg({\"ticker\": \"count\", \"return_month\": \"mean\"})\n",
    ")"
   ]
  },
  {
   "cell_type": "code",
   "execution_count": null,
   "id": "43d2593d",
   "metadata": {},
   "outputs": [],
   "source": [
    "df_results.describe()"
   ]
  },
  {
   "cell_type": "code",
   "execution_count": null,
   "id": "4077845b",
   "metadata": {},
   "outputs": [],
   "source": [
    "import numpy as np\n",
    "\n",
    "def sharpe(s_return: pd.Series, annualize: int, rf: float = 0) -> float:\n",
    "    \"\"\"\n",
    "    Calculate sharpe ratio\n",
    "\n",
    "    :param s_return: pd.Series with return\n",
    "    :param annualize: int periods to use for annualization (252 daily, 12 monthly, 4 quarterly)\n",
    "    :param rf: float risk-free rate\n",
    "    :return: float sharpe ratio\n",
    "    \"\"\"\n",
    "    # (mean - rf) / std\n",
    "    sharpe_ratio = (s_return.mean() - rf) / s_return.std()\n",
    "\n",
    "    # annualize\n",
    "    sharpe_ratio = sharpe_ratio * np.sqrt(annualize)\n",
    "\n",
    "    return sharpe_ratio"
   ]
  }
 ],
 "metadata": {
  "kernelspec": {
   "display_name": "Python 3 (ipykernel)",
   "language": "python",
   "name": "python3"
  },
  "language_info": {
   "codemirror_mode": {
    "name": "ipython",
    "version": 3
   },
   "file_extension": ".py",
   "mimetype": "text/x-python",
   "name": "python",
   "nbconvert_exporter": "python",
   "pygments_lexer": "ipython3",
   "version": "3.9.7"
  }
 },
 "nbformat": 4,
 "nbformat_minor": 5
}
